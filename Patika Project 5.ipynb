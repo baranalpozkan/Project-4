{
 "cells": [
  {
   "cell_type": "markdown",
   "id": "6c1f30f3-788e-46c9-9a78-2721a8410913",
   "metadata": {},
   "source": [
    "# Patika Project 5: Reverse Elements Function\n",
    "\n",
    "## Question\n",
    "\n",
    "Verilen listenin içindeki elemanları tersine döndüren bir fonksiyon yazın. Eğer listenin içindeki elemanlar da liste içeriyorsa onların elemanlarını da tersine döndürün. Örnek olarak:\n",
    "\n",
    "input: [[1, 2], [3, 4], [5, 6, 7]]\n",
    "\n",
    "output: [[[7, 6, 5], [4, 3], [2, 1]]"
   ]
  },
  {
   "cell_type": "code",
   "execution_count": 44,
   "id": "3867cc4b-6e76-4e5d-aaa9-f3ee57b37638",
   "metadata": {},
   "outputs": [
    {
     "name": "stdout",
     "output_type": "stream",
     "text": [
      "[[7, 6, 5], [4, 3], [2, 1]]\n"
     ]
    }
   ],
   "source": [
    "l = [[1, 2], [3, 4], [5, 6, 7]]\n",
    "reversed_l = []\n",
    "\n",
    "def reverse(l):\n",
    "    l = l[::-1]\n",
    "    for i in l:\n",
    "        if isinstance(i, list) :\n",
    "            i.reverse()\n",
    "            reversed_l.append(i)\n",
    "        else:\n",
    "            reversed_l.append(i)\n",
    "reverse(l)\n",
    "print(reversed_l)"
   ]
  },
  {
   "cell_type": "code",
   "execution_count": null,
   "id": "4702633d-5292-4be8-9138-ce860790f572",
   "metadata": {
    "jupyter": {
     "source_hidden": true
    },
    "tags": []
   },
   "outputs": [],
   "source": []
  }
 ],
 "metadata": {
  "kernelspec": {
   "display_name": "Python 3 (ipykernel)",
   "language": "python",
   "name": "python3"
  },
  "language_info": {
   "codemirror_mode": {
    "name": "ipython",
    "version": 3
   },
   "file_extension": ".py",
   "mimetype": "text/x-python",
   "name": "python",
   "nbconvert_exporter": "python",
   "pygments_lexer": "ipython3",
   "version": "3.8.8"
  }
 },
 "nbformat": 4,
 "nbformat_minor": 5
}
