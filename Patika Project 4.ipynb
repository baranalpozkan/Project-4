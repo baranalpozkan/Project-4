{
 "cells": [
  {
   "cell_type": "markdown",
   "id": "e7b1dfbe-0b4d-41ed-95af-cd8950a5f6a5",
   "metadata": {},
   "source": [
    "# Patika Project 4: Flatten Function\n",
    "\n",
    "## Question\n",
    "\n",
    "Bir listeyi düzleştiren (flatten) fonksiyon yazın. Elemanları birden çok katmanlı listelerden ([[3],2] gibi) oluşabileceği gibi, non-scalar verilerden de oluşabilir. Örnek olarak:\n",
    "\n",
    "input: [[1,'a',['cat'],2],[[[3]],'dog'],4,5]\n",
    "\n",
    "output: [1,'a','cat',2,3,'dog',4,5]\n"
   ]
  },
  {
   "cell_type": "code",
   "execution_count": 37,
   "id": "68d67cdc-80a9-4c6a-9205-24a3906b7a5c",
   "metadata": {},
   "outputs": [
    {
     "name": "stdout",
     "output_type": "stream",
     "text": [
      "[1, 'a', 'cat', 2, 3, 'dog', 4, 5]\n"
     ]
    }
   ],
   "source": [
    "l = [[1,'a',['cat'],2],[[[3]],'dog'],4,5] \n",
    "flattened_l = [] \n",
    "\n",
    "def flatten(x):\n",
    "    \n",
    "    for i in x:\n",
    "        \n",
    "        if type(i) == list :\n",
    "            flatten(i)\n",
    "        else:\n",
    "            flattened_l.append(i)\n",
    "\n",
    "flatten(l)\n",
    "print(flattened_l)\n",
    "            "
   ]
  },
  {
   "cell_type": "code",
   "execution_count": null,
   "id": "4faf4adc-3ca6-4779-88b6-b4bca576590d",
   "metadata": {},
   "outputs": [],
   "source": []
  }
 ],
 "metadata": {
  "kernelspec": {
   "display_name": "Python 3 (ipykernel)",
   "language": "python",
   "name": "python3"
  },
  "language_info": {
   "codemirror_mode": {
    "name": "ipython",
    "version": 3
   },
   "file_extension": ".py",
   "mimetype": "text/x-python",
   "name": "python",
   "nbconvert_exporter": "python",
   "pygments_lexer": "ipython3",
   "version": "3.8.8"
  }
 },
 "nbformat": 4,
 "nbformat_minor": 5
}
